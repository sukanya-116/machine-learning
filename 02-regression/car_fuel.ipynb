{
 "cells": [
  {
   "cell_type": "markdown",
   "id": "d07cd7c7",
   "metadata": {},
   "source": [
    "Dataset"
   ]
  },
  {
   "cell_type": "code",
   "execution_count": 103,
   "id": "2294c4d7",
   "metadata": {},
   "outputs": [
    {
     "data": {
      "text/html": [
       "<div>\n",
       "<style scoped>\n",
       "    .dataframe tbody tr th:only-of-type {\n",
       "        vertical-align: middle;\n",
       "    }\n",
       "\n",
       "    .dataframe tbody tr th {\n",
       "        vertical-align: top;\n",
       "    }\n",
       "\n",
       "    .dataframe thead th {\n",
       "        text-align: right;\n",
       "    }\n",
       "</style>\n",
       "<table border=\"1\" class=\"dataframe\">\n",
       "  <thead>\n",
       "    <tr style=\"text-align: right;\">\n",
       "      <th></th>\n",
       "      <th>engine_displacement</th>\n",
       "      <th>num_cylinders</th>\n",
       "      <th>horsepower</th>\n",
       "      <th>vehicle_weight</th>\n",
       "      <th>acceleration</th>\n",
       "      <th>model_year</th>\n",
       "      <th>origin</th>\n",
       "      <th>fuel_type</th>\n",
       "      <th>drivetrain</th>\n",
       "      <th>num_doors</th>\n",
       "      <th>fuel_efficiency_mpg</th>\n",
       "    </tr>\n",
       "  </thead>\n",
       "  <tbody>\n",
       "    <tr>\n",
       "      <th>0</th>\n",
       "      <td>170</td>\n",
       "      <td>3.0</td>\n",
       "      <td>159.0</td>\n",
       "      <td>3413.433759</td>\n",
       "      <td>17.7</td>\n",
       "      <td>2003</td>\n",
       "      <td>Europe</td>\n",
       "      <td>Gasoline</td>\n",
       "      <td>All-wheel drive</td>\n",
       "      <td>0.0</td>\n",
       "      <td>13.231729</td>\n",
       "    </tr>\n",
       "    <tr>\n",
       "      <th>1</th>\n",
       "      <td>130</td>\n",
       "      <td>5.0</td>\n",
       "      <td>97.0</td>\n",
       "      <td>3149.664934</td>\n",
       "      <td>17.8</td>\n",
       "      <td>2007</td>\n",
       "      <td>USA</td>\n",
       "      <td>Gasoline</td>\n",
       "      <td>Front-wheel drive</td>\n",
       "      <td>0.0</td>\n",
       "      <td>13.688217</td>\n",
       "    </tr>\n",
       "    <tr>\n",
       "      <th>2</th>\n",
       "      <td>170</td>\n",
       "      <td>NaN</td>\n",
       "      <td>78.0</td>\n",
       "      <td>3079.038997</td>\n",
       "      <td>15.1</td>\n",
       "      <td>2018</td>\n",
       "      <td>Europe</td>\n",
       "      <td>Gasoline</td>\n",
       "      <td>Front-wheel drive</td>\n",
       "      <td>0.0</td>\n",
       "      <td>14.246341</td>\n",
       "    </tr>\n",
       "    <tr>\n",
       "      <th>3</th>\n",
       "      <td>220</td>\n",
       "      <td>4.0</td>\n",
       "      <td>NaN</td>\n",
       "      <td>2542.392402</td>\n",
       "      <td>20.2</td>\n",
       "      <td>2009</td>\n",
       "      <td>USA</td>\n",
       "      <td>Diesel</td>\n",
       "      <td>All-wheel drive</td>\n",
       "      <td>2.0</td>\n",
       "      <td>16.912736</td>\n",
       "    </tr>\n",
       "    <tr>\n",
       "      <th>4</th>\n",
       "      <td>210</td>\n",
       "      <td>1.0</td>\n",
       "      <td>140.0</td>\n",
       "      <td>3460.870990</td>\n",
       "      <td>14.4</td>\n",
       "      <td>2009</td>\n",
       "      <td>Europe</td>\n",
       "      <td>Gasoline</td>\n",
       "      <td>All-wheel drive</td>\n",
       "      <td>2.0</td>\n",
       "      <td>12.488369</td>\n",
       "    </tr>\n",
       "    <tr>\n",
       "      <th>5</th>\n",
       "      <td>190</td>\n",
       "      <td>3.0</td>\n",
       "      <td>NaN</td>\n",
       "      <td>2484.883986</td>\n",
       "      <td>14.7</td>\n",
       "      <td>2008</td>\n",
       "      <td>Europe</td>\n",
       "      <td>Gasoline</td>\n",
       "      <td>All-wheel drive</td>\n",
       "      <td>-1.0</td>\n",
       "      <td>17.271818</td>\n",
       "    </tr>\n",
       "    <tr>\n",
       "      <th>6</th>\n",
       "      <td>240</td>\n",
       "      <td>7.0</td>\n",
       "      <td>127.0</td>\n",
       "      <td>3006.542287</td>\n",
       "      <td>22.2</td>\n",
       "      <td>2012</td>\n",
       "      <td>USA</td>\n",
       "      <td>Gasoline</td>\n",
       "      <td>Front-wheel drive</td>\n",
       "      <td>1.0</td>\n",
       "      <td>13.210412</td>\n",
       "    </tr>\n",
       "    <tr>\n",
       "      <th>7</th>\n",
       "      <td>150</td>\n",
       "      <td>4.0</td>\n",
       "      <td>239.0</td>\n",
       "      <td>3638.657780</td>\n",
       "      <td>17.3</td>\n",
       "      <td>2020</td>\n",
       "      <td>USA</td>\n",
       "      <td>Diesel</td>\n",
       "      <td>All-wheel drive</td>\n",
       "      <td>1.0</td>\n",
       "      <td>12.848884</td>\n",
       "    </tr>\n",
       "    <tr>\n",
       "      <th>8</th>\n",
       "      <td>250</td>\n",
       "      <td>1.0</td>\n",
       "      <td>174.0</td>\n",
       "      <td>2714.219310</td>\n",
       "      <td>10.3</td>\n",
       "      <td>2016</td>\n",
       "      <td>Asia</td>\n",
       "      <td>Diesel</td>\n",
       "      <td>Front-wheel drive</td>\n",
       "      <td>-1.0</td>\n",
       "      <td>16.823554</td>\n",
       "    </tr>\n",
       "    <tr>\n",
       "      <th>9</th>\n",
       "      <td>150</td>\n",
       "      <td>4.0</td>\n",
       "      <td>123.0</td>\n",
       "      <td>3509.036569</td>\n",
       "      <td>10.2</td>\n",
       "      <td>2005</td>\n",
       "      <td>USA</td>\n",
       "      <td>Gasoline</td>\n",
       "      <td>Front-wheel drive</td>\n",
       "      <td>-1.0</td>\n",
       "      <td>12.298355</td>\n",
       "    </tr>\n",
       "  </tbody>\n",
       "</table>\n",
       "</div>"
      ],
      "text/plain": [
       "   engine_displacement  num_cylinders  horsepower  vehicle_weight  \\\n",
       "0                  170            3.0       159.0     3413.433759   \n",
       "1                  130            5.0        97.0     3149.664934   \n",
       "2                  170            NaN        78.0     3079.038997   \n",
       "3                  220            4.0         NaN     2542.392402   \n",
       "4                  210            1.0       140.0     3460.870990   \n",
       "5                  190            3.0         NaN     2484.883986   \n",
       "6                  240            7.0       127.0     3006.542287   \n",
       "7                  150            4.0       239.0     3638.657780   \n",
       "8                  250            1.0       174.0     2714.219310   \n",
       "9                  150            4.0       123.0     3509.036569   \n",
       "\n",
       "   acceleration  model_year  origin fuel_type         drivetrain  num_doors  \\\n",
       "0          17.7        2003  Europe  Gasoline    All-wheel drive        0.0   \n",
       "1          17.8        2007     USA  Gasoline  Front-wheel drive        0.0   \n",
       "2          15.1        2018  Europe  Gasoline  Front-wheel drive        0.0   \n",
       "3          20.2        2009     USA    Diesel    All-wheel drive        2.0   \n",
       "4          14.4        2009  Europe  Gasoline    All-wheel drive        2.0   \n",
       "5          14.7        2008  Europe  Gasoline    All-wheel drive       -1.0   \n",
       "6          22.2        2012     USA  Gasoline  Front-wheel drive        1.0   \n",
       "7          17.3        2020     USA    Diesel    All-wheel drive        1.0   \n",
       "8          10.3        2016    Asia    Diesel  Front-wheel drive       -1.0   \n",
       "9          10.2        2005     USA  Gasoline  Front-wheel drive       -1.0   \n",
       "\n",
       "   fuel_efficiency_mpg  \n",
       "0            13.231729  \n",
       "1            13.688217  \n",
       "2            14.246341  \n",
       "3            16.912736  \n",
       "4            12.488369  \n",
       "5            17.271818  \n",
       "6            13.210412  \n",
       "7            12.848884  \n",
       "8            16.823554  \n",
       "9            12.298355  "
      ]
     },
     "execution_count": 103,
     "metadata": {},
     "output_type": "execute_result"
    }
   ],
   "source": [
    "import pandas as pd\n",
    "import numpy as np\n",
    "import seaborn as sns\n",
    "import matplotlib.pyplot as plt\n",
    "\n",
    "%matplotlib inline\n",
    "\n",
    "df = pd.read_csv('https://raw.githubusercontent.com/alexeygrigorev/datasets/master/car_fuel_efficiency.csv')\n",
    "df.head(10)"
   ]
  },
  {
   "cell_type": "code",
   "execution_count": 104,
   "id": "d668e7b3",
   "metadata": {},
   "outputs": [
    {
     "data": {
      "text/html": [
       "<div>\n",
       "<style scoped>\n",
       "    .dataframe tbody tr th:only-of-type {\n",
       "        vertical-align: middle;\n",
       "    }\n",
       "\n",
       "    .dataframe tbody tr th {\n",
       "        vertical-align: top;\n",
       "    }\n",
       "\n",
       "    .dataframe thead th {\n",
       "        text-align: right;\n",
       "    }\n",
       "</style>\n",
       "<table border=\"1\" class=\"dataframe\">\n",
       "  <thead>\n",
       "    <tr style=\"text-align: right;\">\n",
       "      <th></th>\n",
       "      <th>engine_displacement</th>\n",
       "      <th>horsepower</th>\n",
       "      <th>vehicle_weight</th>\n",
       "      <th>model_year</th>\n",
       "    </tr>\n",
       "  </thead>\n",
       "  <tbody>\n",
       "    <tr>\n",
       "      <th>0</th>\n",
       "      <td>170</td>\n",
       "      <td>159.0</td>\n",
       "      <td>3413.433759</td>\n",
       "      <td>2003</td>\n",
       "    </tr>\n",
       "    <tr>\n",
       "      <th>1</th>\n",
       "      <td>130</td>\n",
       "      <td>97.0</td>\n",
       "      <td>3149.664934</td>\n",
       "      <td>2007</td>\n",
       "    </tr>\n",
       "    <tr>\n",
       "      <th>2</th>\n",
       "      <td>170</td>\n",
       "      <td>78.0</td>\n",
       "      <td>3079.038997</td>\n",
       "      <td>2018</td>\n",
       "    </tr>\n",
       "    <tr>\n",
       "      <th>3</th>\n",
       "      <td>220</td>\n",
       "      <td>NaN</td>\n",
       "      <td>2542.392402</td>\n",
       "      <td>2009</td>\n",
       "    </tr>\n",
       "    <tr>\n",
       "      <th>4</th>\n",
       "      <td>210</td>\n",
       "      <td>140.0</td>\n",
       "      <td>3460.870990</td>\n",
       "      <td>2009</td>\n",
       "    </tr>\n",
       "  </tbody>\n",
       "</table>\n",
       "</div>"
      ],
      "text/plain": [
       "   engine_displacement  horsepower  vehicle_weight  model_year\n",
       "0                  170       159.0     3413.433759        2003\n",
       "1                  130        97.0     3149.664934        2007\n",
       "2                  170        78.0     3079.038997        2018\n",
       "3                  220         NaN     2542.392402        2009\n",
       "4                  210       140.0     3460.870990        2009"
      ]
     },
     "execution_count": 104,
     "metadata": {},
     "output_type": "execute_result"
    }
   ],
   "source": [
    "base = ['engine_displacement','horsepower','vehicle_weight','model_year']\n",
    "df[base].head(5)\n"
   ]
  },
  {
   "cell_type": "markdown",
   "id": "513d93b1",
   "metadata": {},
   "source": [
    "Exploratory Data Analysis"
   ]
  },
  {
   "cell_type": "code",
   "execution_count": 105,
   "id": "1063d78b",
   "metadata": {},
   "outputs": [
    {
     "name": "stdout",
     "output_type": "stream",
     "text": [
      "engine_displacement\n",
      "[170 130 220 210 190]\n",
      "36\n",
      "\n",
      "num_cylinders\n",
      "[ 3.  5. nan  4.  1.]\n",
      "14\n",
      "\n",
      "horsepower\n",
      "[159.  97.  78.  nan 140.]\n",
      "192\n",
      "\n",
      "vehicle_weight\n",
      "[3413.43375861 3149.66493422 3079.03899737 2542.39240183 3460.87098999]\n",
      "9704\n",
      "\n",
      "acceleration\n",
      "[17.7 17.8 15.1 20.2 14.4]\n",
      "162\n",
      "\n",
      "model_year\n",
      "[2003 2007 2018 2009 2008]\n",
      "24\n",
      "\n",
      "origin\n",
      "['Europe' 'USA' 'Asia']\n",
      "3\n",
      "\n",
      "fuel_type\n",
      "['Gasoline' 'Diesel']\n",
      "2\n",
      "\n",
      "drivetrain\n",
      "['All-wheel drive' 'Front-wheel drive']\n",
      "2\n",
      "\n",
      "num_doors\n",
      "[ 0.  2. -1.  1. nan]\n",
      "9\n",
      "\n",
      "fuel_efficiency_mpg\n",
      "[13.23172891 13.68821744 14.246341   16.9127356  12.48836912]\n",
      "9704\n",
      "\n"
     ]
    }
   ],
   "source": [
    "for col in df.columns:\n",
    "    print(col)\n",
    "    print(df[col].unique()[:5])\n",
    "    print(df[col].nunique())\n",
    "    print()"
   ]
  },
  {
   "cell_type": "code",
   "execution_count": 106,
   "id": "86988e6b",
   "metadata": {},
   "outputs": [
    {
     "data": {
      "text/plain": [
       "<Axes: xlabel='fuel_efficiency_mpg', ylabel='Count'>"
      ]
     },
     "execution_count": 106,
     "metadata": {},
     "output_type": "execute_result"
    },
    {
     "data": {
      "image/png": "[encoded data removed]",
      "text/plain": [
       "<Figure size 640x480 with 1 Axes>"
      ]
     },
     "metadata": {},
     "output_type": "display_data"
    }
   ],
   "source": [
    "sns.histplot(df['fuel_efficiency_mpg'])"
   ]
  },
  {
   "cell_type": "markdown",
   "id": "25666438",
   "metadata": {},
   "source": [
    "Missing values"
   ]
  },
  {
   "cell_type": "code",
   "execution_count": 107,
   "id": "270566e8",
   "metadata": {},
   "outputs": [
    {
     "data": {
      "text/plain": [
       "engine_displacement      0\n",
       "horsepower             708\n",
       "vehicle_weight           0\n",
       "model_year               0\n",
       "dtype: int64"
      ]
     },
     "execution_count": 107,
     "metadata": {},
     "output_type": "execute_result"
    }
   ],
   "source": [
    "df[base].isnull().sum()"
   ]
  },
  {
   "cell_type": "markdown",
   "id": "95be67d0",
   "metadata": {},
   "source": [
    "median (50% percentile) for variable 'horsepower'"
   ]
  },
  {
   "cell_type": "code",
   "execution_count": 108,
   "id": "286a4fca",
   "metadata": {},
   "outputs": [
    {
     "data": {
      "text/plain": [
       "np.float64(149.0)"
      ]
     },
     "execution_count": 108,
     "metadata": {},
     "output_type": "execute_result"
    }
   ],
   "source": [
    "horsepower_median = df['horsepower'].median()\n",
    "horsepower_median"
   ]
  },
  {
   "cell_type": "markdown",
   "id": "66f84459",
   "metadata": {},
   "source": [
    "Prepare and split the dataset"
   ]
  },
  {
   "cell_type": "code",
   "execution_count": 109,
   "id": "06463c98",
   "metadata": {},
   "outputs": [
    {
     "data": {
      "text/plain": [
       "(9704, 1940, 1940, 5824)"
      ]
     },
     "execution_count": 109,
     "metadata": {},
     "output_type": "execute_result"
    }
   ],
   "source": [
    "n = len(df)\n",
    "n_val = int(n * 0.2)\n",
    "n_test = int(n * 0.2)   \n",
    "n_train = n - n_val - n_test\n",
    "n, n_val, n_test, n_train"
   ]
  },
  {
   "cell_type": "code",
   "execution_count": 110,
   "id": "f4f5fb76",
   "metadata": {},
   "outputs": [],
   "source": [
    "idx = np.arange(n)\n",
    "np.random.seed(42)\n",
    "np.random.shuffle(idx)"
   ]
  },
  {
   "cell_type": "code",
   "execution_count": 111,
   "id": "99d11a11",
   "metadata": {},
   "outputs": [],
   "source": [
    "df_train = df.iloc[idx[:n_train]]\n",
    "df_val = df.iloc[idx[n_train:n_train+n_val]]\n",
    "df_test = df.iloc[idx[n_train+n_val:]]\n"
   ]
  },
  {
   "cell_type": "code",
   "execution_count": 112,
   "id": "cd1c0cfb",
   "metadata": {},
   "outputs": [],
   "source": [
    "# Features\n",
    "df_train = df_train.reset_index(drop=True)\n",
    "df_val = df_val.reset_index(drop=True)\n",
    "df_test = df_test.reset_index(drop=True)"
   ]
  },
  {
   "cell_type": "code",
   "execution_count": 113,
   "id": "65011445",
   "metadata": {},
   "outputs": [],
   "source": [
    "# Target\n",
    "y_train = df_train['fuel_efficiency_mpg'].values\n",
    "y_val = df_val['fuel_efficiency_mpg'].values\n",
    "y_test = df_test['fuel_efficiency_mpg'].values"
   ]
  },
  {
   "cell_type": "code",
   "execution_count": 114,
   "id": "d9ab2d57",
   "metadata": {},
   "outputs": [],
   "source": [
    "# Drop the target before training\n",
    "del df_train['fuel_efficiency_mpg']\n",
    "del df_val['fuel_efficiency_mpg']\n",
    "del df_test['fuel_efficiency_mpg']"
   ]
  },
  {
   "cell_type": "markdown",
   "id": "e2b33765",
   "metadata": {},
   "source": [
    "Train a linear regression model without regularization"
   ]
  },
  {
   "cell_type": "code",
   "execution_count": 115,
   "id": "d0673df9",
   "metadata": {},
   "outputs": [],
   "source": [
    "# Function to return weights\n",
    "# w = inv (transposeX * X) * transposeX * y\n",
    "# transposeX is written as X.T\n",
    "\n",
    "def get_weights(X,y):\n",
    "    ones = np.ones(X.shape[0])\n",
    "    X = np.column_stack([ones, X])\n",
    "    XTX = X.T.dot(X)\n",
    "    XTX_inv = np.linalg.inv(XTX)\n",
    "    w = XTX_inv.dot(X.T).dot(y)\n",
    "    return w[0], w[1:]  # return intercept and weights\n",
    "    \n"
   ]
  },
  {
   "cell_type": "code",
   "execution_count": 116,
   "id": "844dd13f",
   "metadata": {},
   "outputs": [
    {
     "data": {
      "text/plain": [
       "array([17.33526223, 16.29296317, 17.69885099, 11.47249885, 19.23145943,\n",
       "       12.15660811, 11.80853407, 17.41522511, 16.26583007, 14.00894032])"
      ]
     },
     "execution_count": 116,
     "metadata": {},
     "output_type": "execute_result"
    }
   ],
   "source": [
    "# Train the model using 0 for NaN values in horsepower\n",
    "\n",
    "X_train_0 = df_train[base].fillna(0).values\n",
    "w0_0, w_0 = get_weights(X_train_0, y_train)\n",
    "y_pred_case1 = w0_0 + X_train_0.dot(w_0)\n",
    "y_pred_case1[:10]"
   ]
  },
  {
   "cell_type": "code",
   "execution_count": 117,
   "id": "35ac5dcc",
   "metadata": {},
   "outputs": [
    {
     "data": {
      "text/plain": [
       "<matplotlib.legend.Legend at 0x1a5d56d24d0>"
      ]
     },
     "execution_count": 117,
     "metadata": {},
     "output_type": "execute_result"
    },
    {
     "data": {
      "image/png": "[encoded data removed]",
      "text/plain": [
       "<Figure size 640x480 with 1 Axes>"
      ]
     },
     "metadata": {},
     "output_type": "display_data"
    }
   ],
   "source": [
    "sns.histplot(y_pred_case1, color='red', label='predicted', alpha=0.2)\n",
    "sns.histplot(y_train, color='black', label='actual', alpha=0.2)\n",
    "plt.legend()"
   ]
  },
  {
   "cell_type": "code",
   "execution_count": 118,
   "id": "762a5b56",
   "metadata": {},
   "outputs": [
    {
     "data": {
      "text/plain": [
       "0    17.259110\n",
       "1    16.190113\n",
       "2    17.692459\n",
       "3    11.814410\n",
       "4    18.934381\n",
       "5    11.918260\n",
       "6    11.554643\n",
       "7    17.389881\n",
       "8    16.236402\n",
       "9    13.949490\n",
       "dtype: float64"
      ]
     },
     "execution_count": 118,
     "metadata": {},
     "output_type": "execute_result"
    }
   ],
   "source": [
    "# Train the model using mean for NaN values in horsepower\n",
    "mean_hp = df_train['horsepower'].mean()\n",
    "X_train_mean = df_train[base].copy()\n",
    "X_train_mean['horsepower'] = X_train_mean['horsepower'].fillna(mean_hp)\n",
    "w0_mean, w_mean = get_weights(X_train_mean, y_train)\n",
    "y_pred_case2 = w0_mean + X_train_mean.dot(w_mean)\n",
    "y_pred_case2[:10]"
   ]
  },
  {
   "cell_type": "code",
   "execution_count": 119,
   "id": "006654cd",
   "metadata": {},
   "outputs": [
    {
     "data": {
      "text/plain": [
       "<matplotlib.legend.Legend at 0x1a5d5d9e390>"
      ]
     },
     "execution_count": 119,
     "metadata": {},
     "output_type": "execute_result"
    },
    {
     "data": {
      "image/png": "[encoded data removed]",
      "text/plain": [
       "<Figure size 640x480 with 1 Axes>"
      ]
     },
     "metadata": {},
     "output_type": "display_data"
    }
   ],
   "source": [
    "sns.histplot(y_pred_case2, color='red', label='predicted', alpha=0.5)\n",
    "sns.histplot(y_train, color='black', label='actual', alpha=0.5)\n",
    "plt.legend()"
   ]
  },
  {
   "cell_type": "code",
   "execution_count": 120,
   "id": "2eb79c56",
   "metadata": {},
   "outputs": [
    {
     "data": {
      "text/plain": [
       "(np.float64(0.52), np.float64(0.46))"
      ]
     },
     "execution_count": 120,
     "metadata": {},
     "output_type": "execute_result"
    }
   ],
   "source": [
    "# RMSE\n",
    "def rmse(y, y_pred):\n",
    "    se = (y - y_pred) ** 2\n",
    "    mse = se.mean()\n",
    "    return np.sqrt(mse)\n",
    "\n",
    "np.round(rmse(y_train, y_pred_case1),2), np.round(rmse(y_train, y_pred_case2),2)"
   ]
  },
  {
   "cell_type": "code",
   "execution_count": 121,
   "id": "b8b2c23d",
   "metadata": {},
   "outputs": [
    {
     "data": {
      "text/plain": [
       "np.float64(0.52)"
      ]
     },
     "execution_count": 121,
     "metadata": {},
     "output_type": "execute_result"
    }
   ],
   "source": [
    "# Validate the model using 0 for NaN values in horsepower on validation set\n",
    "X_val_0 = df_val[base].fillna(0).values\n",
    "y_pred_val_0 = w0_0 + X_val_0.dot(w_0)\n",
    "score = np.round(rmse(y_val, y_pred_val_0),2)\n",
    "score"
   ]
  },
  {
   "cell_type": "code",
   "execution_count": 122,
   "id": "03920718",
   "metadata": {},
   "outputs": [
    {
     "data": {
      "text/plain": [
       "np.float64(0.46)"
      ]
     },
     "execution_count": 122,
     "metadata": {},
     "output_type": "execute_result"
    }
   ],
   "source": [
    "# Validate the model using mean for NaN values in horsepower on validation set\n",
    "X_val_mean = df_val[base].copy()\n",
    "X_val_mean['horsepower'] = X_val_mean['horsepower'].fillna(mean_hp)\n",
    "y_pred_val_mean = w0_mean + X_val_mean.dot(w_mean)\n",
    "score = np.round(rmse(y_val, y_pred_val_mean),2)\n",
    "score"
   ]
  },
  {
   "cell_type": "markdown",
   "id": "3bed9305",
   "metadata": {},
   "source": [
    "Add features and train\n"
   ]
  },
  {
   "cell_type": "code",
   "execution_count": 123,
   "id": "8e82784c",
   "metadata": {},
   "outputs": [
    {
     "data": {
      "text/plain": [
       "np.int64(2023)"
      ]
     },
     "execution_count": 123,
     "metadata": {},
     "output_type": "execute_result"
    }
   ],
   "source": [
    "df['model_year'].max()"
   ]
  },
  {
   "cell_type": "code",
   "execution_count": 124,
   "id": "fac8ce75",
   "metadata": {},
   "outputs": [],
   "source": [
    "def prepare_features(df):\n",
    "    df = df.copy()\n",
    "    df['age'] = 2023 - df['model_year']\n",
    "    features = ['engine_displacement','horsepower','vehicle_weight','age']\n",
    "    df_num=df[features]\n",
    "    df_num=df_num.fillna(0)\n",
    "    X = df_num.values\n",
    "    return X"
   ]
  },
  {
   "cell_type": "code",
   "execution_count": 125,
   "id": "6b35191e",
   "metadata": {},
   "outputs": [
    {
     "data": {
      "text/plain": [
       "np.float64(0.52)"
      ]
     },
     "execution_count": 125,
     "metadata": {},
     "output_type": "execute_result"
    }
   ],
   "source": [
    "X_train = prepare_features(df_train)\n",
    "w0, w = get_weights(X_train, y_train)\n",
    "X_val = prepare_features(df_val)\n",
    "y_pred_val_age = w0 + X_val.dot(w)\n",
    "score=np.round(rmse(y_val, y_pred_val_age),2)\n",
    "score"
   ]
  },
  {
   "cell_type": "code",
   "execution_count": 126,
   "id": "94426bfe",
   "metadata": {},
   "outputs": [
    {
     "data": {
      "text/plain": [
       "<matplotlib.legend.Legend at 0x1a5d5f87050>"
      ]
     },
     "execution_count": 126,
     "metadata": {},
     "output_type": "execute_result"
    },
    {
     "data": {
      "image/png": "[encoded data removed]",
      "text/plain": [
       "<Figure size 640x480 with 1 Axes>"
      ]
     },
     "metadata": {},
     "output_type": "display_data"
    }
   ],
   "source": [
    "sns.histplot(y_pred_val_age, label='prediction', color='red', alpha=0.5, bins=50)\n",
    "sns.histplot(y_val, label='target', color='blue',  alpha=0.5, bins=50)\n",
    "plt.legend()"
   ]
  },
  {
   "cell_type": "markdown",
   "id": "fae5412a",
   "metadata": {},
   "source": [
    "Add categorical variables"
   ]
  },
  {
   "cell_type": "code",
   "execution_count": 127,
   "id": "b50be4be",
   "metadata": {},
   "outputs": [
    {
     "data": {
      "text/plain": [
       "num_doors\n",
       " 0.0    3551\n",
       " 1.0    2192\n",
       "-1.0    2183\n",
       "-2.0     594\n",
       " 2.0     563\n",
       " 3.0      58\n",
       "-3.0      56\n",
       "-4.0       4\n",
       " 4.0       1\n",
       "Name: count, dtype: int64"
      ]
     },
     "execution_count": 127,
     "metadata": {},
     "output_type": "execute_result"
    }
   ],
   "source": [
    "df['num_doors'].value_counts()"
   ]
  },
  {
   "cell_type": "code",
   "execution_count": null,
   "id": "19dc0421",
   "metadata": {},
   "outputs": [
    {
     "data": {
      "text/plain": [
       "num_doors\n",
       "1.0    8428\n",
       "2.0    1157\n",
       "3.0     114\n",
       "4.0       5\n",
       "Name: count, dtype: int64"
      ]
     },
     "execution_count": 128,
     "metadata": {},
     "output_type": "execute_result"
    }
   ],
   "source": [
    "# Make num_doors positive, replace 0 and NaN with 1\n",
    "\n",
    "df['num_doors'] = df['num_doors'].abs().replace({0:1}).fillna(1)\n",
    "df['num_doors'].value_counts()"
   ]
  },
  {
   "cell_type": "code",
   "execution_count": 129,
   "id": "955fc56d",
   "metadata": {},
   "outputs": [
    {
     "data": {
      "text/plain": [
       "{'origin': ['Asia', 'Europe', 'USA'],\n",
       " 'fuel_type': ['Gasoline', 'Diesel'],\n",
       " 'drivetrain': ['All-wheel drive', 'Front-wheel drive']}"
      ]
     },
     "execution_count": 129,
     "metadata": {},
     "output_type": "execute_result"
    }
   ],
   "source": [
    "categorical_variables = ['origin','fuel_type', 'drivetrain']\n",
    "\n",
    "categorical = {}\n",
    "\n",
    "for c in categorical_variables:\n",
    "    categorical[c] = list(df_train[c].value_counts().head().index)\n",
    "\n",
    "categorical"
   ]
  },
  {
   "cell_type": "code",
   "execution_count": 130,
   "id": "5cec5da9",
   "metadata": {},
   "outputs": [],
   "source": [
    "def prepare_features(df):\n",
    "    \n",
    "    df = df.copy()\n",
    "    features = base.copy()\n",
    "    df['horsepower'] = df['horsepower'].fillna(0)\n",
    "    df['age'] = 2023 - df['model_year']\n",
    "    features.append('age')\n",
    "\n",
    "    for v in [1, 2]:\n",
    "        df['num_doors_%d' % v] = (df.num_doors == v).astype(int)\n",
    "        features.append('num_doors_%d' % v)\n",
    "    \n",
    "    for name, values in categorical.items():\n",
    "        for value in values:\n",
    "            df['%s_%s' % (name, value)] = (df[name] == value).astype(int)\n",
    "            features.append('%s_%s' % (name, value))\n",
    "\n",
    "    df_num = df[features]\n",
    "    df_num = df_num.fillna(0)\n",
    "    X = df_num.values\n",
    "    \n",
    "    return X\n"
   ]
  },
  {
   "cell_type": "code",
   "execution_count": 131,
   "id": "2ea7b71c",
   "metadata": {},
   "outputs": [
    {
     "data": {
      "text/plain": [
       "np.float64(126.04)"
      ]
     },
     "execution_count": 131,
     "metadata": {},
     "output_type": "execute_result"
    }
   ],
   "source": [
    "X_train = prepare_features(df_train)\n",
    "\n",
    "w0, w = get_weights(X_train, y_train)\n",
    "\n",
    "X_val = prepare_features(df_val)\n",
    "y_pred_features = w0 + X_val.dot(w)\n",
    "score = np.round(rmse(y_val, y_pred_features),2)\n",
    "score\n"
   ]
  },
  {
   "cell_type": "markdown",
   "id": "e4fe3efe",
   "metadata": {},
   "source": [
    "Train a linear regression model with regularization"
   ]
  },
  {
   "cell_type": "code",
   "execution_count": 132,
   "id": "61029898",
   "metadata": {},
   "outputs": [],
   "source": [
    "\n",
    "def get_weights_reg(X,y, r=0.001):\n",
    "    ones = np.ones(X.shape[0])\n",
    "    X = np.column_stack([ones, X])\n",
    "\n",
    "    XTX = X.T.dot(X)\n",
    "    XTX = XTX + r * np.eye(XTX.shape[0])\n",
    "    XTX_inv = np.linalg.inv(XTX)\n",
    "    w = XTX_inv.dot(X.T).dot(y)\n",
    "    return w[0], w[1:]  # return intercept and weights\n",
    "    "
   ]
  },
  {
   "cell_type": "code",
   "execution_count": 133,
   "id": "c1b8b7a9",
   "metadata": {},
   "outputs": [
    {
     "name": "stdout",
     "output_type": "stream",
     "text": [
      "0 -3.69005998296362e+16 126.03922811099639 126.04\n",
      "0.01 1.424422149809134e-05 0.5173145297638299 0.52\n",
      "0.1 1.4242096631702054e-05 0.5173144409459426 0.52\n",
      "1 1.42413285085718e-05 0.5173135572262422 0.52\n",
      "5 1.4241403437607076e-05 0.5173097270073079 0.52\n",
      "10 1.4241486872654067e-05 0.5173051535881646 0.52\n",
      "100 1.4242186891348362e-05 0.5172510255760534 0.52\n"
     ]
    }
   ],
   "source": [
    "for r in [0, 0.01, 0.1, 1, 5, 10, 100]:\n",
    "    X_train = prepare_features(df_train)\n",
    "    w0, w = get_weights_reg(X_train, y_train, r=r)\n",
    "\n",
    "    X_val = prepare_features(df_val)\n",
    "    y_pred_features = w0 + X_val.dot(w)\n",
    "    rmse_num = rmse(y_val, y_pred_features)\n",
    "    score = np.round(rmse_num,2)\n",
    "    print(r,w0,rmse_num,score)"
   ]
  },
  {
   "cell_type": "markdown",
   "id": "fd8a1e37",
   "metadata": {},
   "source": [
    "Seed"
   ]
  },
  {
   "cell_type": "code",
   "execution_count": 134,
   "id": "515503ce",
   "metadata": {},
   "outputs": [
    {
     "name": "stdout",
     "output_type": "stream",
     "text": [
      "Standard deviation of RMSE scores: 0.007\n"
     ]
    }
   ],
   "source": [
    "rmse_scores = []\n",
    "\n",
    "for seed in range(10):\n",
    "    n = len(df)\n",
    "    n_val = int(n * 0.2)\n",
    "    n_test = int(n * 0.2)\n",
    "    n_train = n - n_val - n_test\n",
    "\n",
    "    idx = np.arange(n)\n",
    "    np.random.seed(seed)\n",
    "    np.random.shuffle(idx)\n",
    "\n",
    "    df_train = df.iloc[idx[:n_train]].reset_index(drop=True)\n",
    "    df_val = df.iloc[idx[n_train:n_train+n_val]].reset_index(drop=True)\n",
    "    df_test = df.iloc[idx[n_train+n_val:]].reset_index(drop=True)\n",
    "\n",
    "    y_train = df_train['fuel_efficiency_mpg'].values\n",
    "    y_val = df_val['fuel_efficiency_mpg'].values\n",
    "\n",
    "    X_train = df_train[base].fillna(0).values\n",
    "    X_val = df_val[base].fillna(0).values\n",
    "\n",
    "    w0, w = get_weights(X_train, y_train)\n",
    "    y_pred_val = w0 + X_val.dot(w)\n",
    "    score = rmse(y_val, y_pred_val)\n",
    "    rmse_scores.append(score)\n",
    "\n",
    "std = np.std(rmse_scores)\n",
    "print(\"Standard deviation of RMSE scores:\", round(std, 3))"
   ]
  },
  {
   "cell_type": "code",
   "execution_count": 135,
   "id": "1d179f12",
   "metadata": {},
   "outputs": [
    {
     "name": "stdout",
     "output_type": "stream",
     "text": [
      "0.52\n"
     ]
    }
   ],
   "source": [
    "n = len(df)\n",
    "n_val = int(n * 0.2)\n",
    "n_test = int(n * 0.2)\n",
    "n_train = n - n_val - n_test\n",
    "\n",
    "idx = np.arange(n)\n",
    "np.random.seed(9)\n",
    "np.random.shuffle(idx)\n",
    "\n",
    "df_train = df.iloc[idx[:n_train]].reset_index(drop=True)\n",
    "df_val = df.iloc[idx[n_train:n_train+n_val]].reset_index(drop=True)\n",
    "df_test = df.iloc[idx[n_train+n_val:]].reset_index(drop=True)\n",
    "\n",
    "y_train = df_train['fuel_efficiency_mpg'].values\n",
    "y_val = df_val['fuel_efficiency_mpg'].values\n",
    "y_test = df_test['fuel_efficiency_mpg'].values\n",
    "\n",
    "del df_train['fuel_efficiency_mpg']\n",
    "del df_val['fuel_efficiency_mpg']\n",
    "del df_test['fuel_efficiency_mpg']\n",
    "\n",
    "df_full_train = pd.concat([df_train, df_val]).reset_index(drop=True)\n",
    "\n",
    "\n",
    "X_full_train = prepare_features(df_full_train)\n",
    "y_full_train = np.concatenate([y_train, y_val])\n",
    "\n",
    "w0, w = get_weights_reg(X_full_train, y_full_train, r=0.001)\n",
    "X_test = prepare_features(df_test)\n",
    "y_pred = w0 + X_test.dot(w)\n",
    "print(np.round(rmse(y_test, y_pred),2))"
   ]
  }
 ],
 "metadata": {
  "kernelspec": {
   "display_name": ".venv",
   "language": "python",
   "name": "python3"
  },
  "language_info": {
   "codemirror_mode": {
    "name": "ipython",
    "version": 3
   },
   "file_extension": ".py",
   "mimetype": "text/x-python",
   "name": "python",
   "nbconvert_exporter": "python",
   "pygments_lexer": "ipython3",
   "version": "3.11.9"
  }
 },
 "nbformat": 4,
 "nbformat_minor": 5
}
