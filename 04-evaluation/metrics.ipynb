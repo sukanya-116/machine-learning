{
 "cells": [
  {
   "cell_type": "markdown",
   "id": "36f7eaa6",
   "metadata": {},
   "source": [
    "### Dataset"
   ]
  },
  {
   "cell_type": "code",
   "execution_count": 32,
   "id": "9020b525",
   "metadata": {},
   "outputs": [],
   "source": [
    "import pandas as pd\n",
    "import numpy as np\n",
    "from sklearn.model_selection import train_test_split, KFold\n",
    "from sklearn.linear_model import LogisticRegression\n",
    "from sklearn.metrics import accuracy_score, roc_curve, roc_auc_score, f1_score\n",
    "from sklearn.feature_extraction import DictVectorizer\n",
    "from sklearn.preprocessing import StandardScaler\n",
    "import matplotlib.pyplot as plt \n",
    "from tqdm.auto import tqdm\n",
    "\n",
    "%matplotlib inline\n",
    "\n",
    "df = pd.read_csv('../datasets/course.csv')\n",
    "\n",
    "categorical_columns = [col for col in df.columns if df[col].dtype == 'object']\n",
    "numerical_columns = [col for col in df.columns if df[col].dtype != 'object' and col != 'converted']\n",
    "\n",
    "df[categorical_columns] = df[categorical_columns].fillna('NA')\n",
    "df[numerical_columns] = df[numerical_columns].fillna(0)\n"
   ]
  },
  {
   "cell_type": "markdown",
   "id": "4b3f2fcd",
   "metadata": {},
   "source": [
    "### Split the dataset into train, validation, and test sets"
   ]
  },
  {
   "cell_type": "code",
   "execution_count": 33,
   "id": "93040a8f",
   "metadata": {},
   "outputs": [],
   "source": [
    "df_full_train, df_test = train_test_split(df, test_size=0.2, random_state=1)\n",
    "df_train, df_val = train_test_split(df_full_train, test_size=0.25, random_state=1)\n",
    "\n",
    "df_train = df_train.reset_index(drop=True)  \n",
    "df_val = df_val.reset_index(drop=True)\n",
    "df_test = df_test.reset_index(drop=True)\n",
    "\n",
    "y_train = df_train['converted'].values\n",
    "y_val = df_val['converted'].values\n",
    "y_test = df_test['converted'].values\n",
    "\n",
    "del df_train['converted']\n",
    "del df_val['converted']\n",
    "del df_test['converted']"
   ]
  },
  {
   "cell_type": "markdown",
   "id": "cad247e6",
   "metadata": {},
   "source": [
    "### One hot encoding"
   ]
  },
  {
   "cell_type": "code",
   "execution_count": 34,
   "id": "c7973a2d",
   "metadata": {},
   "outputs": [],
   "source": [
    "dv = DictVectorizer(sparse=False)\n",
    "\n",
    "train_dicts = df_train[categorical_columns + numerical_columns].to_dict(orient='records')\n",
    "X_train = dv.fit_transform(train_dicts)\n",
    "\n",
    "val_dicts = df_val[categorical_columns + numerical_columns].to_dict(orient='records')\n",
    "X_val = dv.transform(val_dicts)\n"
   ]
  },
  {
   "cell_type": "markdown",
   "id": "ab8a445f",
   "metadata": {},
   "source": [
    "### Train the model using Logistic Regression"
   ]
  },
  {
   "cell_type": "code",
   "execution_count": 35,
   "id": "df3a8bbf",
   "metadata": {},
   "outputs": [
    {
     "data": {
      "text/plain": [
       "(array([0.57539503, 0.47060768, 0.61901235, 0.6143892 , 0.6174103 ]),\n",
       " array([1, 0, 1, 1, 1]))"
      ]
     },
     "execution_count": 35,
     "metadata": {},
     "output_type": "execute_result"
    }
   ],
   "source": [
    "model = LogisticRegression(solver='liblinear', C=1.0, max_iter=1000, random_state=1)\n",
    "model.fit(X_train, y_train)\n",
    "y_pred_prob = model.predict_proba(X_val)[:,1] # Probability of positive class [all rows, column 1]\n",
    "y_pred = model.predict(X_val) # Returns class labels\n",
    "y_pred_prob[:5],y_pred[:5]\n"
   ]
  },
  {
   "cell_type": "markdown",
   "id": "9e08a91b",
   "metadata": {},
   "source": [
    "### Accuracy"
   ]
  },
  {
   "cell_type": "code",
   "execution_count": 36,
   "id": "2608afd9",
   "metadata": {},
   "outputs": [
    {
     "name": "stdout",
     "output_type": "stream",
     "text": [
      "0.00 0.584\n",
      "0.05 0.584\n",
      "0.10 0.584\n",
      "0.15 0.584\n",
      "0.20 0.584\n",
      "0.25 0.584\n",
      "0.30 0.594\n",
      "0.35 0.601\n",
      "0.40 0.642\n",
      "0.45 0.679\n",
      "0.50 0.700\n",
      "0.55 0.747\n",
      "0.60 0.747\n",
      "0.65 0.734\n",
      "0.70 0.693\n",
      "0.75 0.655\n",
      "0.80 0.614\n",
      "0.85 0.567\n",
      "0.90 0.495\n",
      "0.95 0.433\n",
      "1.00 0.416\n"
     ]
    }
   ],
   "source": [
    "thresholds = np.linspace(0, 1, 21)\n",
    "\n",
    "scores = []\n",
    "\n",
    "for t in thresholds:\n",
    "    score = accuracy_score(y_val, y_pred_prob >= t)\n",
    "    print('%.2f %.3f' % (t, score))\n",
    "    scores.append(score)"
   ]
  },
  {
   "cell_type": "markdown",
   "id": "1a364c25",
   "metadata": {},
   "source": [
    "### Confusion matrix"
   ]
  },
  {
   "cell_type": "code",
   "execution_count": 37,
   "id": "1a65e716",
   "metadata": {},
   "outputs": [
    {
     "data": {
      "text/plain": [
       "array([[ 60,  62],\n",
       "       [ 12, 159]])"
      ]
     },
     "execution_count": 37,
     "metadata": {},
     "output_type": "execute_result"
    }
   ],
   "source": [
    "actual_positive = (y_val == 1)\n",
    "actual_negative = (y_val == 0)\n",
    "t = 0.55\n",
    "predict_positive = (y_pred_prob >= t)\n",
    "predict_negative = (y_pred_prob < t)\n",
    "tp = (predict_positive & actual_positive).sum()\n",
    "tn = (predict_negative & actual_negative).sum()\n",
    "\n",
    "fp = (predict_positive & actual_negative).sum()\n",
    "fn = (predict_negative & actual_positive).sum()\n",
    "confusion_matrix = np.array([\n",
    "    [tn, fp],\n",
    "    [fn, tp]\n",
    "])\n",
    "confusion_matrix\n"
   ]
  },
  {
   "cell_type": "markdown",
   "id": "81b8f1bd",
   "metadata": {},
   "source": [
    "### Precision  and Recall\n",
    "Precision = TP / (TP + FP)  \n",
    "Recall    = TP / (TP + FN)"
   ]
  },
  {
   "cell_type": "code",
   "execution_count": 38,
   "id": "a0de4fbb",
   "metadata": {},
   "outputs": [
    {
     "data": {
      "text/plain": [
       "(np.float64(0.7194570135746606), np.float64(0.9298245614035088))"
      ]
     },
     "execution_count": 38,
     "metadata": {},
     "output_type": "execute_result"
    }
   ],
   "source": [
    "p = tp / (tp + fp)\n",
    "r = tp / (tp + fn)\n",
    "p, r    "
   ]
  },
  {
   "cell_type": "markdown",
   "id": "1cdc44df",
   "metadata": {},
   "source": [
    "### ROC and AUC\n",
    "True Postive Rate (TPR)   = Sensitivity = Recall  = TP / (TP + FN), we need to maximize this metric.    \n",
    "False Positive Rate (FPR) = 1 - Specificity = FP / (FP +TN)  we need to minimize this metric.   \n",
    "ROC (Receiver Operator Characteristic) curve considers TPR and FPR under all the possible thresholds and makes it easier to identify best threshold.   \n",
    "AUC (Area Under Curve) makes it easier to compare one ROC curve to another.\n"
   ]
  },
  {
   "cell_type": "code",
   "execution_count": 39,
   "id": "f4d2898d",
   "metadata": {},
   "outputs": [
    {
     "data": {
      "text/plain": [
       "(np.float64(0.9298245614035088), np.float64(0.5081967213114754))"
      ]
     },
     "execution_count": 39,
     "metadata": {},
     "output_type": "execute_result"
    }
   ],
   "source": [
    "tpr = tp / (tp + fn)\n",
    "fpr = fp / (fp + tn)\n",
    "tpr, fpr"
   ]
  },
  {
   "cell_type": "code",
   "execution_count": 40,
   "id": "c67a6a00",
   "metadata": {},
   "outputs": [
    {
     "data": {
      "text/html": [
       "<div>\n",
       "<style scoped>\n",
       "    .dataframe tbody tr th:only-of-type {\n",
       "        vertical-align: middle;\n",
       "    }\n",
       "\n",
       "    .dataframe tbody tr th {\n",
       "        vertical-align: top;\n",
       "    }\n",
       "\n",
       "    .dataframe thead th {\n",
       "        text-align: right;\n",
       "    }\n",
       "</style>\n",
       "<table border=\"1\" class=\"dataframe\">\n",
       "  <thead>\n",
       "    <tr style=\"text-align: right;\">\n",
       "      <th></th>\n",
       "      <th>threshold</th>\n",
       "      <th>precision</th>\n",
       "      <th>recall/tpr</th>\n",
       "      <th>fpr</th>\n",
       "    </tr>\n",
       "  </thead>\n",
       "  <tbody>\n",
       "    <tr>\n",
       "      <th>0</th>\n",
       "      <td>0.00</td>\n",
       "      <td>0.583618</td>\n",
       "      <td>1.000000</td>\n",
       "      <td>1.0</td>\n",
       "    </tr>\n",
       "    <tr>\n",
       "      <th>1</th>\n",
       "      <td>0.01</td>\n",
       "      <td>0.583618</td>\n",
       "      <td>1.000000</td>\n",
       "      <td>1.0</td>\n",
       "    </tr>\n",
       "    <tr>\n",
       "      <th>2</th>\n",
       "      <td>0.02</td>\n",
       "      <td>0.583618</td>\n",
       "      <td>1.000000</td>\n",
       "      <td>1.0</td>\n",
       "    </tr>\n",
       "    <tr>\n",
       "      <th>3</th>\n",
       "      <td>0.03</td>\n",
       "      <td>0.583618</td>\n",
       "      <td>1.000000</td>\n",
       "      <td>1.0</td>\n",
       "    </tr>\n",
       "    <tr>\n",
       "      <th>4</th>\n",
       "      <td>0.04</td>\n",
       "      <td>0.583618</td>\n",
       "      <td>1.000000</td>\n",
       "      <td>1.0</td>\n",
       "    </tr>\n",
       "    <tr>\n",
       "      <th>...</th>\n",
       "      <td>...</td>\n",
       "      <td>...</td>\n",
       "      <td>...</td>\n",
       "      <td>...</td>\n",
       "    </tr>\n",
       "    <tr>\n",
       "      <th>96</th>\n",
       "      <td>0.96</td>\n",
       "      <td>1.000000</td>\n",
       "      <td>0.017544</td>\n",
       "      <td>0.0</td>\n",
       "    </tr>\n",
       "    <tr>\n",
       "      <th>97</th>\n",
       "      <td>0.97</td>\n",
       "      <td>1.000000</td>\n",
       "      <td>0.005848</td>\n",
       "      <td>0.0</td>\n",
       "    </tr>\n",
       "    <tr>\n",
       "      <th>98</th>\n",
       "      <td>0.98</td>\n",
       "      <td>0.000000</td>\n",
       "      <td>0.000000</td>\n",
       "      <td>0.0</td>\n",
       "    </tr>\n",
       "    <tr>\n",
       "      <th>99</th>\n",
       "      <td>0.99</td>\n",
       "      <td>0.000000</td>\n",
       "      <td>0.000000</td>\n",
       "      <td>0.0</td>\n",
       "    </tr>\n",
       "    <tr>\n",
       "      <th>100</th>\n",
       "      <td>1.00</td>\n",
       "      <td>0.000000</td>\n",
       "      <td>0.000000</td>\n",
       "      <td>0.0</td>\n",
       "    </tr>\n",
       "  </tbody>\n",
       "</table>\n",
       "<p>101 rows × 4 columns</p>\n",
       "</div>"
      ],
      "text/plain": [
       "     threshold  precision  recall/tpr  fpr\n",
       "0         0.00   0.583618    1.000000  1.0\n",
       "1         0.01   0.583618    1.000000  1.0\n",
       "2         0.02   0.583618    1.000000  1.0\n",
       "3         0.03   0.583618    1.000000  1.0\n",
       "4         0.04   0.583618    1.000000  1.0\n",
       "..         ...        ...         ...  ...\n",
       "96        0.96   1.000000    0.017544  0.0\n",
       "97        0.97   1.000000    0.005848  0.0\n",
       "98        0.98   0.000000    0.000000  0.0\n",
       "99        0.99   0.000000    0.000000  0.0\n",
       "100       1.00   0.000000    0.000000  0.0\n",
       "\n",
       "[101 rows x 4 columns]"
      ]
     },
     "execution_count": 40,
     "metadata": {},
     "output_type": "execute_result"
    }
   ],
   "source": [
    "# Manual method to plot metrics\n",
    "scores = []\n",
    "thresholds = np.linspace(0.0, 1.0, 101)\n",
    "for t in thresholds:\n",
    "    \n",
    "    predict_positive = (y_pred_prob >= t)\n",
    "    predict_negative = (y_pred_prob < t)\n",
    "    \n",
    "    tp = (predict_positive & actual_positive).sum()\n",
    "    tn = (predict_negative & actual_negative).sum()\n",
    "    fp = (predict_positive & actual_negative).sum()\n",
    "    fn = (predict_negative & actual_positive).sum()\n",
    "    precision = tp/(tp + fp) if (tp + fp) != 0 else 0\n",
    "    recall = tp / (tp + fn) \n",
    "    fpr = fp / (fp + tn) \n",
    "    \n",
    "    scores.append((t, precision,recall,fpr))\n",
    "   \n",
    "columns = ['threshold', 'precision', 'recall/tpr','fpr']\n",
    "df_scores = pd.DataFrame(scores, columns=columns)\n",
    "df_scores\n"
   ]
  },
  {
   "cell_type": "code",
   "execution_count": 41,
   "id": "ee0fa145",
   "metadata": {},
   "outputs": [
    {
     "data": {
      "text/plain": [
       "<matplotlib.legend.Legend at 0x1844dcbde10>"
      ]
     },
     "execution_count": 41,
     "metadata": {},
     "output_type": "execute_result"
    },
    {
     "data": {
      "image/png": "[encoded data removed]",
      "text/plain": [
       "<Figure size 640x480 with 1 Axes>"
      ]
     },
     "metadata": {},
     "output_type": "display_data"
    }
   ],
   "source": [
    "#  Plot precision-recall curve\n",
    "\n",
    "plt.plot(df_scores.threshold, df_scores['precision'], label='precision')\n",
    "plt.plot(df_scores.threshold, df_scores['recall/tpr'], label='recall')\n",
    "plt.legend()\n"
   ]
  },
  {
   "cell_type": "code",
   "execution_count": 42,
   "id": "a908d690",
   "metadata": {},
   "outputs": [
    {
     "data": {
      "text/plain": [
       "<Axes: xlabel='fpr'>"
      ]
     },
     "execution_count": 42,
     "metadata": {},
     "output_type": "execute_result"
    },
    {
     "data": {
      "image/png": "[encoded data removed]",
      "text/plain": [
       "<Figure size 640x480 with 1 Axes>"
      ]
     },
     "metadata": {},
     "output_type": "display_data"
    }
   ],
   "source": [
    "# Plot ROC curve\n",
    "df_scores.plot(x='fpr', y='recall/tpr')"
   ]
  },
  {
   "cell_type": "code",
   "execution_count": 43,
   "id": "11bfc8f9",
   "metadata": {},
   "outputs": [
    {
     "data": {
      "text/plain": [
       "Text(0.5, 1.0, 'ROC curve')"
      ]
     },
     "execution_count": 43,
     "metadata": {},
     "output_type": "execute_result"
    },
    {
     "data": {
      "image/png": "[encoded data removed]",
      "text/plain": [
       "<Figure size 640x480 with 1 Axes>"
      ]
     },
     "metadata": {},
     "output_type": "display_data"
    }
   ],
   "source": [
    "# Using sklearn to plot ROC\n",
    "fpr, tpr, thresholds = roc_curve(y_val, y_pred_prob)\n",
    "\n",
    "plt.plot(fpr, tpr)\n",
    "plt.xlabel('FPR')   \n",
    "plt.ylabel('TPR')\n",
    "plt.title('ROC curve')  \n"
   ]
  },
  {
   "cell_type": "code",
   "execution_count": 44,
   "id": "dea741d1",
   "metadata": {},
   "outputs": [
    {
     "name": "stdout",
     "output_type": "stream",
     "text": [
      "number_of_courses_viewed: 0.763568\n",
      "annual_income: 0.551958\n",
      "interaction_count: 0.738270\n",
      "lead_score: 0.614499\n"
     ]
    }
   ],
   "source": [
    "\"\"\"\n",
    "For each numerical variable, use it as score (aka prediction) and compute the AUC with the y variable as ground truth.\n",
    "Use the training dataset for that\n",
    "If your AUC is < 0.5, invert this variable by putting \"-\" in front\n",
    "\n",
    "(e.g. -df_train['balance'])\n",
    "\n",
    "AUC can go below 0.5 if the variable is negatively correlated with the target variable. You can change the direction of the correlation by negating this variable - then negative correlation becomes positive.\n",
    "\"\"\"\n",
    "\n",
    "for col in numerical_columns:\n",
    "    auc = roc_auc_score(y_train, df_train[col])\n",
    "    if auc < 0.5:\n",
    "        auc = roc_auc_score(y_train, -df_train[col]) # negative correlation becomes positive.\n",
    "    print('%s: %f' % (col, auc))"
   ]
  },
  {
   "cell_type": "code",
   "execution_count": 45,
   "id": "6be2f60c",
   "metadata": {},
   "outputs": [
    {
     "data": {
      "text/plain": [
       "0.8171316268814112"
      ]
     },
     "execution_count": 45,
     "metadata": {},
     "output_type": "execute_result"
    }
   ],
   "source": [
    "roc_auc_score(y_val, y_pred_prob)"
   ]
  },
  {
   "cell_type": "markdown",
   "id": "23b34a19",
   "metadata": {},
   "source": [
    "### F1 score\n",
    "Precision and recall are conflicting - when one grows, the other goes down. That's why they are often combined into the F1 score - a metrics that takes into account both\n",
    "\n",
    "This is the formula for computing F1:\n",
    "\n",
    "F1 = 2[(P*R)/(P+R)]\n",
    "\n",
    "Where \n",
    "P is precision and R is recall."
   ]
  },
  {
   "cell_type": "code",
   "execution_count": 46,
   "id": "6bb665de",
   "metadata": {},
   "outputs": [
    {
     "data": {
      "text/html": [
       "<div>\n",
       "<style scoped>\n",
       "    .dataframe tbody tr th:only-of-type {\n",
       "        vertical-align: middle;\n",
       "    }\n",
       "\n",
       "    .dataframe tbody tr th {\n",
       "        vertical-align: top;\n",
       "    }\n",
       "\n",
       "    .dataframe thead th {\n",
       "        text-align: right;\n",
       "    }\n",
       "</style>\n",
       "<table border=\"1\" class=\"dataframe\">\n",
       "  <thead>\n",
       "    <tr style=\"text-align: right;\">\n",
       "      <th></th>\n",
       "      <th>threshold</th>\n",
       "      <th>f1_score</th>\n",
       "    </tr>\n",
       "  </thead>\n",
       "  <tbody>\n",
       "    <tr>\n",
       "      <th>0</th>\n",
       "      <td>0.00</td>\n",
       "      <td>0.737069</td>\n",
       "    </tr>\n",
       "    <tr>\n",
       "      <th>1</th>\n",
       "      <td>0.01</td>\n",
       "      <td>0.737069</td>\n",
       "    </tr>\n",
       "    <tr>\n",
       "      <th>2</th>\n",
       "      <td>0.02</td>\n",
       "      <td>0.737069</td>\n",
       "    </tr>\n",
       "    <tr>\n",
       "      <th>3</th>\n",
       "      <td>0.03</td>\n",
       "      <td>0.737069</td>\n",
       "    </tr>\n",
       "    <tr>\n",
       "      <th>4</th>\n",
       "      <td>0.04</td>\n",
       "      <td>0.737069</td>\n",
       "    </tr>\n",
       "    <tr>\n",
       "      <th>...</th>\n",
       "      <td>...</td>\n",
       "      <td>...</td>\n",
       "    </tr>\n",
       "    <tr>\n",
       "      <th>96</th>\n",
       "      <td>0.96</td>\n",
       "      <td>0.034483</td>\n",
       "    </tr>\n",
       "    <tr>\n",
       "      <th>97</th>\n",
       "      <td>0.97</td>\n",
       "      <td>0.011628</td>\n",
       "    </tr>\n",
       "    <tr>\n",
       "      <th>98</th>\n",
       "      <td>0.98</td>\n",
       "      <td>0.000000</td>\n",
       "    </tr>\n",
       "    <tr>\n",
       "      <th>99</th>\n",
       "      <td>0.99</td>\n",
       "      <td>0.000000</td>\n",
       "    </tr>\n",
       "    <tr>\n",
       "      <th>100</th>\n",
       "      <td>1.00</td>\n",
       "      <td>0.000000</td>\n",
       "    </tr>\n",
       "  </tbody>\n",
       "</table>\n",
       "<p>101 rows × 2 columns</p>\n",
       "</div>"
      ],
      "text/plain": [
       "     threshold  f1_score\n",
       "0         0.00  0.737069\n",
       "1         0.01  0.737069\n",
       "2         0.02  0.737069\n",
       "3         0.03  0.737069\n",
       "4         0.04  0.737069\n",
       "..         ...       ...\n",
       "96        0.96  0.034483\n",
       "97        0.97  0.011628\n",
       "98        0.98  0.000000\n",
       "99        0.99  0.000000\n",
       "100       1.00  0.000000\n",
       "\n",
       "[101 rows x 2 columns]"
      ]
     },
     "execution_count": 46,
     "metadata": {},
     "output_type": "execute_result"
    }
   ],
   "source": [
    "thresholds = np.arange(0, 1.01, 0.01)\n",
    "f1_scores = []\n",
    "\n",
    "for t in thresholds:\n",
    "    y_pred = (y_pred_prob >= t).astype(int)\n",
    "    f1_scores.append((t, f1_score(y_val, y_pred)))\n",
    "\n",
    "columns = ['threshold', 'f1_score']\n",
    "df_f1_scores = pd.DataFrame(f1_scores, columns=columns)\n",
    "df_f1_scores\n"
   ]
  },
  {
   "cell_type": "code",
   "execution_count": 47,
   "id": "0ca6bc5a",
   "metadata": {},
   "outputs": [
    {
     "data": {
      "text/plain": [
       "threshold    0.5700\n",
       "f1_score     0.8125\n",
       "Name: 57, dtype: float64"
      ]
     },
     "execution_count": 47,
     "metadata": {},
     "output_type": "execute_result"
    }
   ],
   "source": [
    "df_f1_scores.loc[df_f1_scores.f1_score.idxmax()]\n"
   ]
  },
  {
   "cell_type": "markdown",
   "id": "882f4f61",
   "metadata": {},
   "source": [
    "### Cross Validation\n",
    "Evaluating the same model on different subsets of data\n",
    "Getting the average prediction and the spread within predictions"
   ]
  },
  {
   "cell_type": "code",
   "execution_count": 48,
   "id": "1ee61aae",
   "metadata": {},
   "outputs": [],
   "source": [
    "scaler = StandardScaler()\n",
    "dv = DictVectorizer(sparse=False)\n",
    "\n",
    "def train(df_train, y_train, dv, scaler, C=1.0):\n",
    "    df_train = df_train.copy()\n",
    "    if 'converted' in df_train.columns:\n",
    "        df_train = df_train.drop('converted', axis=1)\n",
    "    dicts = df_train[categorical_columns + numerical_columns].to_dict(orient='records')\n",
    "\n",
    "    X_train = dv.fit_transform(dicts)    \n",
    "    X_train_scaled = scaler.fit_transform(X_train)\n",
    "      \n",
    "    model = LogisticRegression(C=C, max_iter=1000)\n",
    "    model.fit(X_train_scaled, y_train)\n",
    "    \n",
    "    return model"
   ]
  },
  {
   "cell_type": "code",
   "execution_count": 49,
   "id": "6a42229b",
   "metadata": {},
   "outputs": [],
   "source": [
    "model = train(df_train, y_train, dv,scaler,C=0.001)"
   ]
  },
  {
   "cell_type": "code",
   "execution_count": 50,
   "id": "ea2f2bd5",
   "metadata": {},
   "outputs": [],
   "source": [
    "def predict(df, dv, scaler, model):\n",
    "    df = df.copy()\n",
    "    if 'converted' in df.columns:\n",
    "        df = df.drop('converted', axis=1)\n",
    "    dicts = df[categorical_columns + numerical_columns].to_dict(orient='records')\n",
    "\n",
    "    X = dv.transform(dicts)\n",
    "    X_val_scaled = scaler.transform(X)  \n",
    "    y_pred_prob = model.predict_proba(X_val_scaled)[:, 1]\n",
    " \n",
    "    return y_pred_prob"
   ]
  },
  {
   "cell_type": "code",
   "execution_count": 51,
   "id": "7e43e1bf",
   "metadata": {},
   "outputs": [],
   "source": [
    "y_pred_prob = predict(df_val, dv, scaler, model)"
   ]
  },
  {
   "cell_type": "code",
   "execution_count": 52,
   "id": "d1054bb5",
   "metadata": {},
   "outputs": [
    {
     "name": "stdout",
     "output_type": "stream",
     "text": [
      "AUC scores for each fold: [0.9212387404153949, 0.9318164047228086, 0.9061693642974431, 0.9103362391033624, 0.9307382758086984]\n",
      "Mean AUC: 0.9200598048695415\n",
      "Standard deviation of AUC: 0.010403166260574156\n"
     ]
    }
   ],
   "source": [
    "kfold = KFold(n_splits = 5, shuffle = True, random_state= 1)\n",
    "scores  = []\n",
    "for train_idx, val_idx in kfold.split(df_full_train):\n",
    "    \n",
    "    df_train = df_full_train.iloc[train_idx].copy()\n",
    "    df_val = df_full_train.iloc[val_idx].copy()\n",
    "    \n",
    "    y_train = df_train.converted.values\n",
    "    y_val = df_val.converted.values\n",
    "    \n",
    "    model = train(df_train, y_train, dv, scaler, C=1.0)\n",
    "    y_pred = predict(df_val, dv, scaler, model)\n",
    "    \n",
    "    auc = roc_auc_score(y_val, y_pred)\n",
    "    scores.append(auc)\n",
    "\n",
    "    \n",
    "\n",
    "print('AUC scores for each fold:', scores)\n",
    "print('Mean AUC:', np.mean(scores))\n",
    "print('Standard deviation of AUC:', np.std(scores))\n"
   ]
  },
  {
   "cell_type": "code",
   "execution_count": 54,
   "id": "205ea20f",
   "metadata": {},
   "outputs": [
    {
     "name": "stderr",
     "output_type": "stream",
     "text": [
      "  0%|          | 0/3 [00:00<?, ?it/s]"
     ]
    },
    {
     "name": "stderr",
     "output_type": "stream",
     "text": [
      " 67%|██████▋   | 2/3 [00:00<00:00,  4.66it/s]"
     ]
    },
    {
     "name": "stdout",
     "output_type": "stream",
     "text": [
      "C=1e-06 => AUC Mean : 0.907, AUC Standard-Deviaton: 0.00872\n",
      "C=0.001 => AUC Mean : 0.911, AUC Standard-Deviaton: 0.00869\n"
     ]
    },
    {
     "name": "stderr",
     "output_type": "stream",
     "text": [
      "100%|██████████| 3/3 [00:00<00:00,  4.99it/s]"
     ]
    },
    {
     "name": "stdout",
     "output_type": "stream",
     "text": [
      "C=1 => AUC Mean : 0.920, AUC Standard-Deviaton: 0.01040\n"
     ]
    },
    {
     "name": "stderr",
     "output_type": "stream",
     "text": [
      "\n"
     ]
    }
   ],
   "source": [
    "for C in tqdm([0.000001, 0.001, 1]):\n",
    "    kfold = KFold(n_splits=5, shuffle=True, random_state=1)\n",
    "\n",
    "    scores = []\n",
    "\n",
    "    for train_idx, val_idx in kfold.split(df_full_train):\n",
    "        \n",
    "        df_train = df_full_train.iloc[train_idx].copy()\n",
    "        df_val = df_full_train.iloc[val_idx].copy()\n",
    "\n",
    "        y_train = df_train.converted.values\n",
    "        y_val = df_val.converted.values\n",
    "       \n",
    "        model = train(df_train, y_train, dv, scaler, C=C)\n",
    "        y_pred = predict(df_val, dv, scaler, model)\n",
    "\n",
    "        auc = roc_auc_score(y_val, y_pred)\n",
    "        scores.append(auc)\n",
    "\n",
    "    print('C=%s => AUC Mean : %.3f, AUC Standard-Deviaton: %.5f' % (C, np.mean(scores), np.std(scores)))\n"
   ]
  },
  {
   "cell_type": "code",
   "execution_count": 55,
   "id": "4d524320",
   "metadata": {},
   "outputs": [
    {
     "data": {
      "text/plain": [
       "0.9228410832907511"
      ]
     },
     "execution_count": 55,
     "metadata": {},
     "output_type": "execute_result"
    }
   ],
   "source": [
    "model = train(df_full_train, df_full_train.converted.values, dv, scaler, C=1.0)\n",
    "y_pred = predict(df_test, dv, scaler, model)\n",
    "\n",
    "auc = roc_auc_score(y_test, y_pred)\n",
    "auc"
   ]
  }
 ],
 "metadata": {
  "kernelspec": {
   "display_name": ".venv",
   "language": "python",
   "name": "python3"
  },
  "language_info": {
   "codemirror_mode": {
    "name": "ipython",
    "version": 3
   },
   "file_extension": ".py",
   "mimetype": "text/x-python",
   "name": "python",
   "nbconvert_exporter": "python",
   "pygments_lexer": "ipython3",
   "version": "3.11.9"
  }
 },
 "nbformat": 4,
 "nbformat_minor": 5
}
