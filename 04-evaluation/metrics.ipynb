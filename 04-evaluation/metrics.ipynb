{
 "cells": [
  {
   "cell_type": "markdown",
   "id": "36f7eaa6",
   "metadata": {},
   "source": [
    "### Dataset"
   ]
  },
  {
   "cell_type": "code",
   "execution_count": 2,
   "id": "9020b525",
   "metadata": {},
   "outputs": [],
   "source": [
    "import pandas as pd\n",
    "import numpy as np\n",
    "from sklearn.model_selection import train_test_split\n",
    "from sklearn.linear_model import LogisticRegression\n",
    "from sklearn.metrics import accuracy_score, roc_curve, roc_auc_score\n",
    "from sklearn.feature_extraction import DictVectorizer\n",
    "import matplotlib.pyplot as plt \n",
    "\n",
    "%matplotlib inline\n",
    "\n",
    "df = pd.read_csv('../datasets/course.csv')\n",
    "\n",
    "categorical_columns = [col for col in df.columns if df[col].dtype == 'object']\n",
    "numerical_columns = [col for col in df.columns if df[col].dtype != 'object' and col != 'converted']\n",
    "\n",
    "df[categorical_columns] = df[categorical_columns].fillna('NA')\n",
    "df[numerical_columns] = df[numerical_columns].fillna(0)\n"
   ]
  },
  {
   "cell_type": "markdown",
   "id": "4b3f2fcd",
   "metadata": {},
   "source": [
    "### Split the dataset into train, validation, and test sets"
   ]
  },
  {
   "cell_type": "code",
   "execution_count": 3,
   "id": "93040a8f",
   "metadata": {},
   "outputs": [],
   "source": [
    "df_full_train, df_test = train_test_split(df, test_size=0.2, random_state=1)\n",
    "df_train, df_val = train_test_split(df_full_train, test_size=0.25, random_state=1)\n",
    "\n",
    "df_train = df_train.reset_index(drop=True)  \n",
    "df_val = df_val.reset_index(drop=True)\n",
    "df_test = df_test.reset_index(drop=True)\n",
    "\n",
    "y_train = df_train['converted'].values\n",
    "y_val = df_val['converted'].values\n",
    "y_test = df_test['converted'].values\n",
    "\n",
    "del df_train['converted']\n",
    "del df_val['converted']\n",
    "del df_test['converted']"
   ]
  },
  {
   "cell_type": "markdown",
   "id": "cad247e6",
   "metadata": {},
   "source": [
    "### One hot encoding"
   ]
  },
  {
   "cell_type": "code",
   "execution_count": 4,
   "id": "c7973a2d",
   "metadata": {},
   "outputs": [],
   "source": [
    "dv = DictVectorizer(sparse=False)\n",
    "\n",
    "train_dicts = df_train[categorical_columns + numerical_columns].to_dict(orient='records')\n",
    "X_train = dv.fit_transform(train_dicts)\n",
    "\n",
    "val_dicts = df_val[categorical_columns + numerical_columns].to_dict(orient='records')\n",
    "X_val = dv.transform(val_dicts)\n"
   ]
  },
  {
   "cell_type": "markdown",
   "id": "ab8a445f",
   "metadata": {},
   "source": [
    "### Train the model using Logistic Regression"
   ]
  },
  {
   "cell_type": "code",
   "execution_count": 5,
   "id": "df3a8bbf",
   "metadata": {},
   "outputs": [],
   "source": [
    "model = LogisticRegression(solver='liblinear', C=1.0, max_iter=1000, random_state=1)\n",
    "model.fit(X_train, y_train)\n",
    "y_pred_prob = model.predict_proba(X_val)[:,1]\n",
    "y_pred = model.predict(X_val)\n",
    "\n"
   ]
  },
  {
   "cell_type": "markdown",
   "id": "9e08a91b",
   "metadata": {},
   "source": [
    "### Accuracy"
   ]
  },
  {
   "cell_type": "code",
   "execution_count": 6,
   "id": "2608afd9",
   "metadata": {},
   "outputs": [
    {
     "name": "stdout",
     "output_type": "stream",
     "text": [
      "0.00 0.584\n",
      "0.05 0.584\n",
      "0.10 0.584\n",
      "0.15 0.584\n",
      "0.20 0.584\n",
      "0.25 0.584\n",
      "0.30 0.594\n",
      "0.35 0.601\n",
      "0.40 0.642\n",
      "0.45 0.679\n",
      "0.50 0.700\n",
      "0.55 0.747\n",
      "0.60 0.747\n",
      "0.65 0.734\n",
      "0.70 0.693\n",
      "0.75 0.655\n",
      "0.80 0.614\n",
      "0.85 0.567\n",
      "0.90 0.495\n",
      "0.95 0.433\n",
      "1.00 0.416\n"
     ]
    }
   ],
   "source": [
    "thresholds = np.linspace(0, 1, 21)\n",
    "\n",
    "scores = []\n",
    "\n",
    "for t in thresholds:\n",
    "    score = accuracy_score(y_val, y_pred_prob >= t)\n",
    "    print('%.2f %.3f' % (t, score))\n",
    "    scores.append(score)"
   ]
  },
  {
   "cell_type": "markdown",
   "id": "1a364c25",
   "metadata": {},
   "source": [
    "### Confusion matrix"
   ]
  },
  {
   "cell_type": "code",
   "execution_count": 7,
   "id": "1a65e716",
   "metadata": {},
   "outputs": [
    {
     "data": {
      "text/plain": [
       "array([[ 60,  62],\n",
       "       [ 12, 159]])"
      ]
     },
     "execution_count": 7,
     "metadata": {},
     "output_type": "execute_result"
    }
   ],
   "source": [
    "actual_positive = (y_val == 1)\n",
    "actual_negative = (y_val == 0)\n",
    "t = 0.55\n",
    "predict_positive = (y_pred_prob >= t)\n",
    "predict_negative = (y_pred_prob < t)\n",
    "tp = (predict_positive & actual_positive).sum()\n",
    "tn = (predict_negative & actual_negative).sum()\n",
    "\n",
    "fp = (predict_positive & actual_negative).sum()\n",
    "fn = (predict_negative & actual_positive).sum()\n",
    "confusion_matrix = np.array([\n",
    "    [tn, fp],\n",
    "    [fn, tp]\n",
    "])\n",
    "confusion_matrix\n"
   ]
  },
  {
   "cell_type": "markdown",
   "id": "81b8f1bd",
   "metadata": {},
   "source": [
    "### Precision  and Recall\n",
    "Precision = TP / (TP + FP)  \n",
    "Recall    = TP / (TP + FN)"
   ]
  },
  {
   "cell_type": "code",
   "execution_count": 8,
   "id": "a0de4fbb",
   "metadata": {},
   "outputs": [
    {
     "data": {
      "text/plain": [
       "(np.float64(0.7194570135746606), np.float64(0.9298245614035088))"
      ]
     },
     "execution_count": 8,
     "metadata": {},
     "output_type": "execute_result"
    }
   ],
   "source": [
    "p = tp / (tp + fp)\n",
    "r = tp / (tp + fn)\n",
    "p, r    "
   ]
  },
  {
   "cell_type": "markdown",
   "id": "1cdc44df",
   "metadata": {},
   "source": [
    "### ROC and AUC\n",
    "True Postive Rate (TPR)   = Sensitivity = Recall  = TP / (TP + FN), we need to maximize this metric.    \n",
    "False Positive Rate (FPR) = 1 - Specificity = FP / (FP +TN)  we need to minimize this metric.   \n",
    "ROC (Receiver Operator Characteristic) curve considers Recall and FPR under all the possible thresholds and makes it easier to identify best threshold.   \n",
    "AUC (Area Under Curve) makes it easier to compare one ROC curve to another.\n"
   ]
  },
  {
   "cell_type": "code",
   "execution_count": 9,
   "id": "f4d2898d",
   "metadata": {},
   "outputs": [
    {
     "data": {
      "text/plain": [
       "(np.float64(0.9298245614035088), np.float64(0.5081967213114754))"
      ]
     },
     "execution_count": 9,
     "metadata": {},
     "output_type": "execute_result"
    }
   ],
   "source": [
    "tpr = tp / (tp + fn)\n",
    "fpr = fp / (fp + tn)\n",
    "tpr, fpr"
   ]
  },
  {
   "cell_type": "code",
   "execution_count": 10,
   "id": "c67a6a00",
   "metadata": {},
   "outputs": [
    {
     "data": {
      "text/plain": [
       "<Axes: xlabel='fpr'>"
      ]
     },
     "execution_count": 10,
     "metadata": {},
     "output_type": "execute_result"
    },
    {
     "data": {
      "image/png": "[encoded data removed]",
      "text/plain": [
       "<Figure size 640x480 with 1 Axes>"
      ]
     },
     "metadata": {},
     "output_type": "display_data"
    }
   ],
   "source": [
    "# Manual method to plot ROC\n",
    "scores = []\n",
    "thresholds = np.linspace(0, 1, 101)\n",
    "for t in thresholds:\n",
    "    predict_positive = (y_pred_prob >= t)\n",
    "    predict_negative = (y_pred_prob < t)\n",
    "    tp = (predict_positive & actual_positive).sum()\n",
    "    tn = (predict_negative & actual_negative).sum()\n",
    "    fp = (predict_positive & actual_negative).sum()\n",
    "    fn = (predict_negative & actual_positive).sum()\n",
    "    tpr = tp / (tp + fn)\n",
    "    fpr = fp / (fp + tn)\n",
    "    scores.append((t, tpr, fpr))\n",
    "columns = ['threshold', 'tpr', 'fpr']\n",
    "df_scores = pd.DataFrame(scores, columns=columns)\n",
    "df_scores.plot(x='fpr', y='tpr')"
   ]
  },
  {
   "cell_type": "code",
   "execution_count": 11,
   "id": "11bfc8f9",
   "metadata": {},
   "outputs": [
    {
     "data": {
      "text/plain": [
       "Text(0.5, 1.0, 'ROC curve')"
      ]
     },
     "execution_count": 11,
     "metadata": {},
     "output_type": "execute_result"
    },
    {
     "data": {
      "image/png": "[encoded data removed]",
      "text/plain": [
       "<Figure size 640x480 with 1 Axes>"
      ]
     },
     "metadata": {},
     "output_type": "display_data"
    }
   ],
   "source": [
    "# Using sklearn to plot ROC\n",
    "fpr, tpr, thresholds = roc_curve(y_val, y_pred_prob)\n",
    "\n",
    "plt.plot(fpr, tpr)\n",
    "plt.xlabel('FPR')   \n",
    "plt.ylabel('TPR')\n",
    "plt.title('ROC curve')  \n"
   ]
  },
  {
   "cell_type": "code",
   "execution_count": 12,
   "id": "6be2f60c",
   "metadata": {},
   "outputs": [
    {
     "data": {
      "text/plain": [
       "0.8171316268814112"
      ]
     },
     "execution_count": 12,
     "metadata": {},
     "output_type": "execute_result"
    }
   ],
   "source": [
    "roc_auc_score(y_val, y_pred_prob)"
   ]
  },
  {
   "cell_type": "code",
   "execution_count": null,
   "id": "dea741d1",
   "metadata": {},
   "outputs": [
    {
     "name": "stdout",
     "output_type": "stream",
     "text": [
      "number_of_courses_viewed: 0.763568\n",
      "annual_income: 0.551958\n",
      "interaction_count: 0.738270\n",
      "lead_score: 0.614499\n"
     ]
    }
   ],
   "source": [
    "\"\"\"\n",
    "For each numerical variable, use it as score (aka prediction) and compute the AUC with the y variable as ground truth.\n",
    "Use the training dataset for that\n",
    "If your AUC is < 0.5, invert this variable by putting \"-\" in front\n",
    "\n",
    "(e.g. -df_train['engine_hp'])\n",
    "\n",
    "AUC can go below 0.5 if the variable is negatively correlated with the target variable. You can change the direction of the correlation by negating this variable - then negative correlation becomes positive.\n",
    "\"\"\"\n",
    "\n",
    "for col in numerical_columns:\n",
    "    auc = roc_auc_score(y_train, df_train[col])\n",
    "    if auc < 0.5:\n",
    "        auc = roc_auc_score(y_train, -df_train[col]) # negative correlation becomes positive.\n",
    "    print('%s: %f' % (col, auc))"
   ]
  },
  {
   "cell_type": "code",
   "execution_count": null,
   "id": "3d48535e",
   "metadata": {},
   "outputs": [],
   "source": []
  }
 ],
 "metadata": {
  "kernelspec": {
   "display_name": ".venv",
   "language": "python",
   "name": "python3"
  },
  "language_info": {
   "codemirror_mode": {
    "name": "ipython",
    "version": 3
   },
   "file_extension": ".py",
   "mimetype": "text/x-python",
   "name": "python",
   "nbconvert_exporter": "python",
   "pygments_lexer": "ipython3",
   "version": "3.11.9"
  }
 },
 "nbformat": 4,
 "nbformat_minor": 5
}
